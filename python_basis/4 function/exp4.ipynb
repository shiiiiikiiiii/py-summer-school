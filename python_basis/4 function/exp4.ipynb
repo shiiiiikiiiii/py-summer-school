{
 "cells": [
  {
   "cell_type": "code",
   "execution_count": 2,
   "id": "4bd9e5fa",
   "metadata": {},
   "outputs": [
    {
     "name": "stdout",
     "output_type": "stream",
     "text": [
      "153\n",
      "370\n",
      "371\n",
      "407\n"
     ]
    }
   ],
   "source": [
    "# question 1\n",
    "def PPDI():\n",
    "    for num in range(100, 1000):\n",
    "        r = map(lambda x:int(x)**3, str(num))\n",
    "        if sum(r) == num:\n",
    "            print(num)\n",
    "PPDI()"
   ]
  },
  {
   "cell_type": "code",
   "execution_count": 3,
   "id": "c9d2bd2e",
   "metadata": {},
   "outputs": [
    {
     "name": "stdout",
     "output_type": "stream",
     "text": [
      "[6, 6, 9, 10, 6, 9]\n"
     ]
    }
   ],
   "source": [
    "# q 2\n",
    "def add5(mylist):\n",
    "    return [i + 5 for i in mylist]\n",
    "tmp = add5([1, 1, 4, 5, 1, 4])\n",
    "print(tmp)"
   ]
  },
  {
   "cell_type": "code",
   "execution_count": 5,
   "id": "cd033a01",
   "metadata": {},
   "outputs": [
    {
     "name": "stdout",
     "output_type": "stream",
     "text": [
      "8\n",
      "13\n",
      "19\n"
     ]
    }
   ],
   "source": [
    "# q 3\n",
    "def manhattanDistance(x, y):\n",
    "    return sum(map(lambda i, j: abs(i-j), x, y))\n",
    "print(manhattanDistance([1,2], [4,7]))\n",
    "print(manhattanDistance([1,2,3], [4,7,8]))\n",
    "print(manhattanDistance([1,2,3,4], [4,7,8,10]))"
   ]
  },
  {
   "cell_type": "code",
   "execution_count": 7,
   "id": "349d1144",
   "metadata": {},
   "outputs": [
    {
     "name": "stdout",
     "output_type": "stream",
     "text": [
      "strong\n"
     ]
    }
   ],
   "source": [
    "import string\n",
    "# q 4\n",
    "def check(pwd):\n",
    "    #密码强度等级与包含字符种类的对应关系\n",
    "    d = {1:'weak', 2:'below middle', 3:'above middle', 4:'strong'}\n",
    "    #分别用来标记pwd是否含有数字、小写字母、大写字母和指定的标点符号\n",
    "    r = [False] * 4\n",
    "    for ch in pwd:\n",
    "        if ch in string.digits:\n",
    "            r[0] = True\n",
    "        elif ch in string.ascii_lowercase:\n",
    "            r[1] = True\n",
    "        elif ch in string.ascii_uppercase:\n",
    "            r[2] = True\n",
    "        elif ch in ',.!;?<>':\n",
    "            r[3] = True\n",
    "    #统计包含的字符种类，返回密码强度\n",
    "    return d.get(r.count(True), 'error')\n",
    "tmp = check(\"Masdf323!\")\n",
    "print(tmp)"
   ]
  },
  {
   "cell_type": "code",
   "execution_count": 11,
   "id": "9e006bc8",
   "metadata": {},
   "outputs": [
    {
     "name": "stdout",
     "output_type": "stream",
     "text": [
      "calculate the cubic root8\n",
      "2.000000001071189\n"
     ]
    }
   ],
   "source": [
    "def cbrt(x):\n",
    "    if x == 0.0:\n",
    "        return 0.0\n",
    "    x1 = x\n",
    "    while True:\n",
    "        x2 = (2.0 * x1 + x / x1 / x1) / 3\n",
    "        if abs((x2 - x1) / x1 ) < 0.001:\n",
    "            return x2\n",
    "        x1 = x2\n",
    "tmp = cbrt(int(input(\"calculate the cubic root\")))\n",
    "tmp = float(Decimal(str(tmp)))\n",
    "print(tmp)"
   ]
  },
  {
   "cell_type": "code",
   "execution_count": null,
   "id": "943f8e19",
   "metadata": {},
   "outputs": [],
   "source": []
  }
 ],
 "metadata": {
  "kernelspec": {
   "display_name": "Python 3",
   "language": "python",
   "name": "python3"
  },
  "language_info": {
   "codemirror_mode": {
    "name": "ipython",
    "version": 3
   },
   "file_extension": ".py",
   "mimetype": "text/x-python",
   "name": "python",
   "nbconvert_exporter": "python",
   "pygments_lexer": "ipython3",
   "version": "3.8.8"
  }
 },
 "nbformat": 4,
 "nbformat_minor": 5
}
