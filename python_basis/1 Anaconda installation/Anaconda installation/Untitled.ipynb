{
 "cells": [
  {
   "cell_type": "code",
   "execution_count": 1,
   "id": "b4247ef8",
   "metadata": {},
   "outputs": [],
   "source": [
    "#Import Library\n",
    "import qrcode\n",
    "#Generate QR Code\n",
    "img=qrcode.make('python exp1: create a qrcode')\n",
    "img.save('test1.png')"
   ]
  },
  {
   "cell_type": "code",
   "execution_count": 8,
   "id": "91e1331b",
   "metadata": {},
   "outputs": [
    {
     "name": "stdout",
     "output_type": "stream",
     "text": [
      "BarCode(raw='https://music.163.com/song?id=36990266&userid=112961323\\r', parsed='https://music.163.com/song?id=36990266&userid=112961323\\r', path='/D:/pythonTmp/90JBHVM$1N58F3{[9O_0EAH.jpg', format='QR_CODE', type='URI', points=[(55.0, 315.0), (55.0, 55.0), (315.0, 55.0), (285.0, 285.0)])\n",
      "条码类型: QR_CODEn内容类型: URIn条码内容(raw):  https://music.163.com/song?id=36990266&userid=112961323\r\n",
      "条码内容(parsed):  https://music.163.com/song?id=36990266&userid=112961323\r\n",
      "图片路径:file:///D:/pythonTmp/90JBHVM%241N58F3%7B%5B9O_0EAH.jpg\n",
      "坐标点:  [(55.0, 315.0), (55.0, 55.0), (315.0, 55.0), (285.0, 285.0)]\n"
     ]
    }
   ],
   "source": [
    "#-*- coding: utf-8 -*一\n",
    "from zxing import BarCodeReader\n",
    "reader = BarCodeReader() #实例化条码读取类\n",
    "results = reader.decode ( '90JBHVM$1N58F3{[9O_0EAH.jpg' ) #调用解码函数进行解码\n",
    "print(results)#打印结果\n",
    "print('条码类型:', results.format + 'n''' +\n",
    "'内容类型:', results.type+ 'n'+\n",
    "'条码内容(raw): ', results.raw + '\\n'+\n",
    "'条码内容(parsed): ', results.parsed + '\\n'+\n",
    "'图片路径:'+ results.uri + '\\n'+\n",
    "'坐标点: ', results.points #实际是二维码定位点的坐标\n",
    "     )"
   ]
  },
  {
   "cell_type": "code",
   "execution_count": 9,
   "id": "7234c36d",
   "metadata": {},
   "outputs": [],
   "source": [
    "    import qrcode\n",
    "    from PIL import Image\n",
    "    text = 'python exp1: create a qrcode with pic'\n",
    "\n",
    "    qr = qrcode.QRCode(\n",
    "        version=1,\n",
    "        error_correction=qrcode.constants.ERROR_CORRECT_H,\n",
    "        box_size=5,\n",
    "        border=4,\n",
    "    )\n",
    "\n",
    "    # 添加数据\n",
    "    qr.add_data(text)\n",
    "    # 填充数据\n",
    "    qr.make(fit=True)\n",
    "    # 生成图片\n",
    "    img = qr.make_image(fill_color=\"#009696\", back_color=\"white\")\n",
    "\n",
    "    # 添加logo，打开logo照片\n",
    "    icon = Image.open('VK5Z}5~UDWL}E93CAWYNP22.png')\n",
    "    # 获取图片的宽高\n",
    "    img_w, img_h = img.size\n",
    "    # 参数设置logo的大小\n",
    "    factor = 6\n",
    "    size_w = int(img_w / factor)\n",
    "    size_h = int(img_h / factor)\n",
    "    icon_w, icon_h = icon.size\n",
    "    if icon_w > size_w:\n",
    "        icon_w = size_w\n",
    "    if icon_h > size_h:\n",
    "        icon_h = size_h\n",
    "    # 重新设置logo的尺寸\n",
    "    icon = icon.resize((icon_w, icon_h), Image.ANTIALIAS)\n",
    "    # 得到画图的x，y坐标，居中显示\n",
    "    w = int((img_w - icon_w) / 2)\n",
    "    h = int((img_h - icon_h) / 2)\n",
    "    # 黏贴logo照\n",
    "    img.paste(icon, (w, h), mask=None)\n",
    "    \n",
    "    # img.save(fpath)\n",
    "    img.show()"
   ]
  },
  {
   "cell_type": "code",
   "execution_count": null,
   "id": "98dc49ea",
   "metadata": {},
   "outputs": [],
   "source": []
  }
 ],
 "metadata": {
  "kernelspec": {
   "display_name": "Python 3",
   "language": "python",
   "name": "python3"
  },
  "language_info": {
   "codemirror_mode": {
    "name": "ipython",
    "version": 3
   },
   "file_extension": ".py",
   "mimetype": "text/x-python",
   "name": "python",
   "nbconvert_exporter": "python",
   "pygments_lexer": "ipython3",
   "version": "3.8.8"
  }
 },
 "nbformat": 4,
 "nbformat_minor": 5
}
