{
 "cells": [
  {
   "cell_type": "code",
   "execution_count": 3,
   "id": "619d8e92",
   "metadata": {},
   "outputs": [
    {
     "name": "stdout",
     "output_type": "stream",
     "text": [
      "length of the random key20\n",
      "_ZSf[&tMx8l[0Ld1H#hc\n"
     ]
    }
   ],
   "source": [
    "# question 1\n",
    "import string, random\n",
    "\n",
    "characters = string.digits + string.ascii_letters+string.punctuation\n",
    "i = int(input('length of the random key'))\n",
    "\n",
    "print(''.join([random.choice(characters) for i in range(i)]))    # 返回i位的密码字段"
   ]
  },
  {
   "cell_type": "code",
   "execution_count": 5,
   "id": "0ea45cf7",
   "metadata": {},
   "outputs": [
    {
     "name": "stdout",
     "output_type": "stream",
     "text": [
      "press 1 to encode, 2 to decode2\n",
      "input an ASCII stringsew tyujrr\n",
      "sdu python\n"
     ]
    }
   ],
   "source": [
    "# question 2\n",
    "dic = 'abcde'\n",
    "\n",
    "\n",
    "# ord(auto): return the ASCII value of auto; chr(auto): vice versa\n",
    "def encode(util_input):\n",
    "    util_input = str.lower(util_input)\n",
    "    tmp_list = list(util_input)\n",
    "    for i in range(len(tmp_list)):\n",
    "        if 26 > ord(tmp_list[i]) - ord('a') >= 0:\n",
    "            tmp_list[i] = chr((ord(tmp_list[i]) - ord('a') + ord(dic[i % len(dic)]) - ord('a')) % 26 + ord('a'))\n",
    "    return ''.join(tmp_list)\n",
    "\n",
    "\n",
    "def decode(util_input):\n",
    "    util_input = str.lower(util_input)\n",
    "    tmp_list = list(util_input)\n",
    "    for i in range(len(tmp_list)):\n",
    "        if 26 > ord(tmp_list[i]) - ord('a') >= 0:\n",
    "            tmp_list[i] = chr((ord(tmp_list[i]) - ord('a') - ord(dic[i % len(dic)]) + ord('a')) % 26 + ord('a'))\n",
    "    return ''.join(tmp_list)\n",
    "\n",
    "\n",
    "a = input('press 1 to encode, 2 to decode')\n",
    "if a == '1':\n",
    "    source = input('input an ASCII string')\n",
    "    ciphertext = encode(source)\n",
    "    print(ciphertext)\n",
    "elif a == '2':\n",
    "    source = input('input an ASCII string')\n",
    "    plaintext = decode(source)\n",
    "    print(plaintext)\n",
    "else:\n",
    "    print('error')\n"
   ]
  },
  {
   "cell_type": "code",
   "execution_count": 1,
   "id": "cf4f99e9",
   "metadata": {},
   "outputs": [
    {
     "name": "stdout",
     "output_type": "stream",
     "text": [
      "input the key to be tested(more than 6 chars)Glxy_123456\n",
      "above middle\n"
     ]
    }
   ],
   "source": [
    "# question 3\n",
    "import string\n",
    "pwd = input(\"input the key to be tested(more than 6 chars)\")\n",
    "#密码必须至少包含6个字符\n",
    "if not isinstance(pwd, str) or len(pwd) < 6:  #isinstance函数用来判断是不是string模块中规定的几种字符类型\n",
    "    print( 'error')\n",
    "else:\n",
    "    #密码强度等级与包含字符种类的对应关系\n",
    "    d = {1:'weak', 2:'below middle', 3:'above middle', 4:'strong'}\n",
    "    #分别用来标记pwd是否含有数字、小写字母、大写字母和指定的标点符号\n",
    "    r = [False] * 4\n",
    "    #print(r)\n",
    "    for ch in pwd:\n",
    "        #是否包含数字\n",
    "        if ch in string.digits:\n",
    "            r[0] = True\n",
    "        #是否包含小写字母\n",
    "        elif ch in string.ascii_lowercase:\n",
    "            r[1] = True\n",
    "        #是否包含大写字母\n",
    "        elif ch in string.ascii_uppercase:\n",
    "            r[2] = True\n",
    "        #是否包含指定的标点符号\n",
    "        elif ch in ',.!;?<>':\n",
    "            r[3] = True\n",
    "        #统计包含的字符种类，返回密码强度\n",
    "    print(d.get(r.count(True), 'error'))"
   ]
  },
  {
   "cell_type": "code",
   "execution_count": 9,
   "id": "ffdaa581",
   "metadata": {},
   "outputs": [
    {
     "name": "stdout",
     "output_type": "stream",
     "text": [
      "原始字符串： Beautiful is better than ugly.Explicit is better than implicit.Simple is better than complex.Complex is better than complicated.Flat is better than nested. \n",
      "请按照原始字符串输入:Beautiful is better than ugly.Explicit is better than implicit.Simple is better than complex.Complex is better than complicated.Flat is better than abcdef. \n",
      "正确率为:96.79%\n"
     ]
    }
   ],
   "source": [
    "# question 4\n",
    "origin = '''Beautiful is better than ugly.\\\n",
    "Explicit is better than implicit.\\\n",
    "Simple is better than complex.\\\n",
    "Complex is better than complicated.\\\n",
    "Flat is better than nested. '''\n",
    "print(\"原始字符串：\",origin)\n",
    "userInput = input(\"请按照原始字符串输入:\")\n",
    "\n",
    "if len(origin)!=len(userInput):\n",
    "    print(\"输入字符串和原始字符串长度不一致！\")\n",
    "    sys.exit()\n",
    "\n",
    "# 精确匹配的字符个数\n",
    "# right = sum(1 for oc, uc in zip(origin, userInput) if oc==uc)\n",
    "right = 0\n",
    "for i in range(len(origin)):\n",
    "    if origin[i] == userInput[i]:\n",
    "        right += 1\n",
    "rate =  right/len(origin)\n",
    "print(\"正确率为:{}%\".format(round(rate * 100, 2)))"
   ]
  },
  {
   "cell_type": "code",
   "execution_count": null,
   "id": "44c301ae",
   "metadata": {},
   "outputs": [],
   "source": []
  }
 ],
 "metadata": {
  "celltoolbar": "无",
  "kernelspec": {
   "display_name": "Python 3",
   "language": "python",
   "name": "python3"
  },
  "language_info": {
   "codemirror_mode": {
    "name": "ipython",
    "version": 3
   },
   "file_extension": ".py",
   "mimetype": "text/x-python",
   "name": "python",
   "nbconvert_exporter": "python",
   "pygments_lexer": "ipython3",
   "version": "3.8.8"
  }
 },
 "nbformat": 4,
 "nbformat_minor": 5
}
