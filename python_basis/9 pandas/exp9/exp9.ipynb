{
 "cells": [
  {
   "cell_type": "code",
   "execution_count": 1,
   "id": "95e0fc91",
   "metadata": {},
   "outputs": [],
   "source": [
    "import csv \n",
    "import random \n",
    "import datetime \n",
    "fn = 'data.csv' \n",
    "with open(fn, 'w',newline=\"\") as fp: \n",
    "# 创建 csv 文件写入对象 \n",
    "    wr = csv.writer(fp) \n",
    "# 写入表头 \n",
    "    wr.writerow(['日期', '销量']) \n",
    "# 生成模拟数据 \n",
    "    startDate = datetime.date(2020, 1, 1) \n",
    "# 生成 200 个模拟数据 \n",
    "    for i in range(200): \n",
    "# 生成一个模拟数据，写入 csv 文件 \n",
    "        amount = 200 + i* 5 + random.randrange(100) \n",
    "        wr.writerow([str(startDate), amount]) \n",
    "# 生产下一天数据\n",
    "        startDate = startDate + datetime.timedelta(days = 1) "
   ]
  },
  {
   "cell_type": "code",
   "execution_count": 2,
   "id": "a3e1f1c9",
   "metadata": {},
   "outputs": [],
   "source": [
    "%matplotlib inline\n",
    "import pandas as pd \n",
    "import matplotlib.pyplot as plt "
   ]
  },
  {
   "cell_type": "code",
   "execution_count": 3,
   "id": "2f414a35",
   "metadata": {},
   "outputs": [],
   "source": [
    "plt.rcParams['font.sans-serif']=['SimHei']\n",
    "plt.rcParams['axes.unicode_minus']=False"
   ]
  },
  {
   "cell_type": "code",
   "execution_count": 4,
   "id": "da6bb7a6",
   "metadata": {},
   "outputs": [
    {
     "data": {
      "text/html": [
       "<div>\n",
       "<style scoped>\n",
       "    .dataframe tbody tr th:only-of-type {\n",
       "        vertical-align: middle;\n",
       "    }\n",
       "\n",
       "    .dataframe tbody tr th {\n",
       "        vertical-align: top;\n",
       "    }\n",
       "\n",
       "    .dataframe thead th {\n",
       "        text-align: right;\n",
       "    }\n",
       "</style>\n",
       "<table border=\"1\" class=\"dataframe\">\n",
       "  <thead>\n",
       "    <tr style=\"text-align: right;\">\n",
       "      <th></th>\n",
       "      <th>日期</th>\n",
       "      <th>销量</th>\n",
       "    </tr>\n",
       "  </thead>\n",
       "  <tbody>\n",
       "    <tr>\n",
       "      <th>0</th>\n",
       "      <td>2020-01-01</td>\n",
       "      <td>204</td>\n",
       "    </tr>\n",
       "    <tr>\n",
       "      <th>1</th>\n",
       "      <td>2020-01-02</td>\n",
       "      <td>276</td>\n",
       "    </tr>\n",
       "    <tr>\n",
       "      <th>2</th>\n",
       "      <td>2020-01-03</td>\n",
       "      <td>214</td>\n",
       "    </tr>\n",
       "    <tr>\n",
       "      <th>3</th>\n",
       "      <td>2020-01-04</td>\n",
       "      <td>257</td>\n",
       "    </tr>\n",
       "    <tr>\n",
       "      <th>4</th>\n",
       "      <td>2020-01-05</td>\n",
       "      <td>221</td>\n",
       "    </tr>\n",
       "    <tr>\n",
       "      <th>...</th>\n",
       "      <td>...</td>\n",
       "      <td>...</td>\n",
       "    </tr>\n",
       "    <tr>\n",
       "      <th>195</th>\n",
       "      <td>2020-07-14</td>\n",
       "      <td>1182</td>\n",
       "    </tr>\n",
       "    <tr>\n",
       "      <th>196</th>\n",
       "      <td>2020-07-15</td>\n",
       "      <td>1211</td>\n",
       "    </tr>\n",
       "    <tr>\n",
       "      <th>197</th>\n",
       "      <td>2020-07-16</td>\n",
       "      <td>1268</td>\n",
       "    </tr>\n",
       "    <tr>\n",
       "      <th>198</th>\n",
       "      <td>2020-07-17</td>\n",
       "      <td>1202</td>\n",
       "    </tr>\n",
       "    <tr>\n",
       "      <th>199</th>\n",
       "      <td>2020-07-18</td>\n",
       "      <td>1209</td>\n",
       "    </tr>\n",
       "  </tbody>\n",
       "</table>\n",
       "<p>200 rows × 2 columns</p>\n",
       "</div>"
      ],
      "text/plain": [
       "             日期    销量\n",
       "0    2020-01-01   204\n",
       "1    2020-01-02   276\n",
       "2    2020-01-03   214\n",
       "3    2020-01-04   257\n",
       "4    2020-01-05   221\n",
       "..          ...   ...\n",
       "195  2020-07-14  1182\n",
       "196  2020-07-15  1211\n",
       "197  2020-07-16  1268\n",
       "198  2020-07-17  1202\n",
       "199  2020-07-18  1209\n",
       "\n",
       "[200 rows x 2 columns]"
      ]
     },
     "execution_count": 4,
     "metadata": {},
     "output_type": "execute_result"
    }
   ],
   "source": [
    "df = pd.read_csv('data.csv',encoding='cp936') \n",
    "df = df.dropna() \n",
    "df"
   ]
  },
  {
   "cell_type": "code",
   "execution_count": 5,
   "id": "ac363f8f",
   "metadata": {},
   "outputs": [
    {
     "data": {
      "text/plain": [
       "<Figure size 432x288 with 0 Axes>"
      ]
     },
     "metadata": {},
     "output_type": "display_data"
    },
    {
     "data": {
      "image/png": "[encoded data removed]",
      "text/plain": [
       "<Figure size 432x288 with 1 Axes>"
      ]
     },
     "metadata": {
      "needs_background": "light"
     },
     "output_type": "display_data"
    }
   ],
   "source": [
    "plt.figure() \n",
    "df.plot(x='日期') \n",
    "plt.savefig('first.jpg') \n",
    "#这里可以省略plt.show()"
   ]
  },
  {
   "cell_type": "code",
   "execution_count": 6,
   "id": "3afa8ffc",
   "metadata": {},
   "outputs": [
    {
     "data": {
      "text/plain": [
       "<Figure size 432x288 with 0 Axes>"
      ]
     },
     "metadata": {},
     "output_type": "display_data"
    },
    {
     "data": {
      "image/png": "[encoded data removed]",
      "text/plain": [
       "<Figure size 432x288 with 1 Axes>"
      ]
     },
     "metadata": {
      "needs_background": "light"
     },
     "output_type": "display_data"
    }
   ],
   "source": [
    "plt.figure() \n",
    "df1 = df.loc[:]#这句话写成df1=df.copy()更容易理解\n",
    "df1['month'] = df1['日期'].map(lambda x: x[:x.rindex('-')]) #截取最后一个“-”之前的字符串，即年月\n",
    "df1 = df1.groupby(by='month', as_index=False).sum() \n",
    "df1.plot(x='month', kind='bar') \n",
    "plt.savefig('second.jpg') "
   ]
  },
  {
   "cell_type": "code",
   "execution_count": 7,
   "id": "f2e40d67",
   "metadata": {},
   "outputs": [],
   "source": [
    "df2 = df1.drop('month', axis=1).diff() \n",
    "m = df2['销量'].nlargest(1).keys()[0] \n",
    "with open('maxMonth.txt', 'w') as fp: \n",
    "    fp.write(df1.loc[m, 'month']) "
   ]
  },
  {
   "cell_type": "code",
   "execution_count": 8,
   "id": "58499a30",
   "metadata": {},
   "outputs": [
    {
     "data": {
      "image/png": "[encoded data removed]",
      "text/plain": [
       "<Figure size 432x288 with 1 Axes>"
      ]
     },
     "metadata": {},
     "output_type": "display_data"
    }
   ],
   "source": [
    "plt.figure() \n",
    "one = df1[:3]['销量'].sum() \n",
    "two = df1[3:6]['销量'].sum() \n",
    "three = df1[6:9]['销量'].sum() \n",
    "four = df1[9:12]['销量'].sum() \n",
    "plt.pie([one, two, three, four],labels=['one', 'two', 'three', 'four']) \n",
    "plt.savefig('third.jpg')"
   ]
  },
  {
   "cell_type": "code",
   "execution_count": null,
   "id": "32393600",
   "metadata": {},
   "outputs": [],
   "source": []
  }
 ],
 "metadata": {
  "kernelspec": {
   "display_name": "Python 3 (ipykernel)",
   "language": "python",
   "name": "python3"
  },
  "language_info": {
   "codemirror_mode": {
    "name": "ipython",
    "version": 3
   },
   "file_extension": ".py",
   "mimetype": "text/x-python",
   "name": "python",
   "nbconvert_exporter": "python",
   "pygments_lexer": "ipython3",
   "version": "3.9.12"
  }
 },
 "nbformat": 4,
 "nbformat_minor": 5
}
