{
 "cells": [
  {
   "cell_type": "code",
   "execution_count": 1,
   "id": "dc436fff",
   "metadata": {},
   "outputs": [
    {
     "name": "stdout",
     "output_type": "stream",
     "text": [
      "Start to GUESS:abc\n",
      "You Must input an integer between 1 and  100\n",
      "Guess again:6\n",
      "Too little\n",
      "Guess again:50\n",
      "Too little\n",
      "Guess again:80\n",
      "Too little\n",
      "Guess again:90\n",
      "Too little\n",
      "Game over. FAIL.\n",
      "The value is  91\n"
     ]
    }
   ],
   "source": [
    "# q 1\n",
    "from random import randint \n",
    "def guess(maxValue=100, maxTimes=5):    \n",
    "    value = randint(1,maxValue)                #随机生成一个整数 \n",
    "    for i in range(maxTimes):\n",
    "        prompt = 'Start to GUESS:' if i==0 else 'Guess again:'\n",
    "        try:    #使用异常处理结构，防止输入不是数字的情况 \n",
    "            x = int(input(prompt))\n",
    "        except:\n",
    "            print('You Must input an integer between 1 and ', maxValue)\n",
    "        else:            \n",
    "            if  x == value:                     #猜对了 \n",
    "                print('Congratulations!')\n",
    "                break\n",
    "            elif  x > value:\n",
    "                print('Too big')\n",
    "            else:\n",
    "                print('Too little')\n",
    "    else:                         #次数用完还没猜对，游戏结束，提示正确答案 \n",
    "        print('Game over. FAIL.')\n",
    "        print('The value is ', value) \n",
    "\n",
    "\n",
    "\n",
    "guess()"
   ]
  },
  {
   "cell_type": "code",
   "execution_count": 7,
   "id": "e19e98d5",
   "metadata": {},
   "outputs": [
    {
     "name": "stdout",
     "output_type": "stream",
     "text": [
      "请输入一个成绩：a\n",
      "不是合法成绩\n",
      "继续输入吗？（yes/no）y\n",
      "只能输入yes或no\n",
      "继续输入吗？（yes/no）yes\n",
      "请输入一个成绩：123\n",
      "继续输入吗？（yes/no）yes\n",
      "请输入一个成绩：222\n",
      "继续输入吗？（yes/no）no\n",
      "172.5\n"
     ]
    }
   ],
   "source": [
    "# q 2\n",
    "numbers = []                                 #使用列表存放临时数据 \n",
    "while True: \n",
    "    x = input('请输入一个成绩：') \n",
    "    try:                                     #异常处理结构 \n",
    "        numbers.append(float(x)) \n",
    "    except: \n",
    "        print('不是合法成绩') \n",
    "    while True: \n",
    "        flag = input('继续输入吗？（yes/no）').lower() \n",
    "        if flag not in ('yes', 'no'):        #限定用户输入内容必须为yes或no \n",
    "            print('只能输入yes或no') \n",
    "        else: \n",
    "            break \n",
    "    if flag == 'no': \n",
    "        break\n",
    "i = round(sum(numbers)/len(numbers), 1)\n",
    "print(i)\n"
   ]
  },
  {
   "cell_type": "code",
   "execution_count": 11,
   "id": "49a8813b",
   "metadata": {},
   "outputs": [
    {
     "name": "stdout",
     "output_type": "stream",
     "text": [
      "程序执行结束\n"
     ]
    }
   ],
   "source": [
    "# q 3\n",
    "from datetime import datetime\n",
    "import traceback,sys\n",
    "\n",
    "class MyException(Exception):\n",
    "    logfile = \"c:\\\\app_log_file.txt\"\n",
    "    def doLog(self):\n",
    "        log = open(self.logfile,\"wt\")\n",
    "        day = datetime.today()\n",
    "        x = sys.exc_info()\n",
    "        print(\"\\n------出错了------\",file = log)\n",
    "        print(\"\\n日期时间：\",day,file = log)\n",
    "        log.write(\"\\n异常类型：%s\"%x[0].__name__)\n",
    "        log.write(\"\\n异常描述: %s\"%x[1])\n",
    "        print(\"\\n堆栈跟踪信息：\",file = log)\n",
    "        traceback.print_tb(self.args[1],file = log)    #获得堆栈跟踪信息\n",
    "        log.close()\n",
    "    \n",
    "try:\n",
    "     try:\n",
    "         print(5 / 0)\n",
    "     except Exception as ex:\n",
    "         raise MyException(ex.args[0],ex.__traceback__)\n",
    "except (MyException) as ex:\n",
    "         ex.doLog()\n",
    "finally:\n",
    "         print(\"程序执行结束\")\n"
   ]
  },
  {
   "cell_type": "code",
   "execution_count": null,
   "id": "78fa78eb",
   "metadata": {},
   "outputs": [],
   "source": []
  }
 ],
 "metadata": {
  "kernelspec": {
   "display_name": "Python 3",
   "language": "python",
   "name": "python3"
  },
  "language_info": {
   "codemirror_mode": {
    "name": "ipython",
    "version": 3
   },
   "file_extension": ".py",
   "mimetype": "text/x-python",
   "name": "python",
   "nbconvert_exporter": "python",
   "pygments_lexer": "ipython3",
   "version": "3.8.8"
  }
 },
 "nbformat": 4,
 "nbformat_minor": 5
}
