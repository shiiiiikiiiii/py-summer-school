{
 "cells": [
  {
   "cell_type": "code",
   "execution_count": 1,
   "id": "be8551cb",
   "metadata": {},
   "outputs": [
    {
     "name": "stdout",
     "output_type": "stream",
     "text": [
      "D:\\PyExp5\\.ipynb_checkpoints\n",
      "D:\\PyExp5\\.ipynb_checkpoints\\exp5-checkpoint.ipynb\n",
      "D:\\PyExp5\\exp5.ipynb\n",
      "D:\\PyExp5\\given\n",
      "D:\\PyExp5\\given\\实验5-1相关知识点(1).ipynb\n",
      "D:\\PyExp5\\given\\实验5-2 异常处理相关知识点.ipynb\n",
      "D:\\PyExp5\\~$5 文件的操作使用和异常处理.docx\n",
      "D:\\PyExp5\\实验5 文件的操作使用和异常处理.docx\n"
     ]
    }
   ],
   "source": [
    "# q 1\n",
    "from os import listdir \n",
    "from os.path import join, isfile, isdir \n",
    "def listDirDepthFirst(directory): \n",
    "#遍历文件夹，如果是文件就直接输出，如果是文件夹，就输出显示，然后递归遍历该文件夹 \n",
    "    for subPath in listdir(directory): \n",
    "        path = join(directory, subPath) \n",
    "        print(path) \n",
    "        if isdir(path): \n",
    "            listDirDepthFirst(path)\n",
    "\n",
    "\n",
    "listDirDepthFirst('D:\\\\PyExp5')"
   ]
  },
  {
   "cell_type": "code",
   "execution_count": 3,
   "id": "c74e52f3",
   "metadata": {},
   "outputs": [
    {
     "name": "stdout",
     "output_type": "stream",
     "text": [
      "D:\\PyExp5\\py_del_test\\test0.txt  deleted....\n",
      "D:\\PyExp5\\py_del_test\\test1.tmp  deleted....\n"
     ]
    }
   ],
   "source": [
    "# q 2\n",
    "from os.path import isdir, join, splitext \n",
    "from os import remove, listdir \n",
    "import sys \n",
    "filetypes = ['.tmp', '.log', '.obj', '.txt']  #指定要删除的文件类型\n",
    "def delCertainFiles(directory): \n",
    "    if not isdir(directory): \n",
    "        return \n",
    "    for filename in listdir(directory): \n",
    "        temp = join(directory, filename) \n",
    "        if isdir(temp): \n",
    "            delCertainFiles(temp) \n",
    "        elif splitext(temp)[1] in filetypes:  #检查文件类型 \n",
    "            remove(temp) \n",
    "            print(temp, ' deleted....')\n",
    "\n",
    "\n",
    "delCertainFiles('D:\\PyExp5\\py_del_test')"
   ]
  },
  {
   "cell_type": "code",
   "execution_count": 38,
   "id": "5c732c39",
   "metadata": {},
   "outputs": [],
   "source": [
    "# q 3\n",
    "import os \n",
    "import filecmp \n",
    "import shutil \n",
    "import sys \n",
    "def autoBackup(scrDir, dstDir):\n",
    "#     if ((not os.path.isdir(scrDir)) or (not os.path.isdir(dstDir)) or\n",
    "#       (os.path.abspath(scrDir) != scrDir) or (os.path.abspath(dstDir) != dstDir)):\n",
    "#         usage()\n",
    "    for item in os.listdir(scrDir):\n",
    "        scrItem = os.path.join(scrDir, item)\n",
    "        dstItem = scrItem.replace(scrDir,dstDir)\n",
    "        if os.path.isdir(scrItem):\n",
    "            #创建新增的文件夹，保证目标文件夹的结构与原始文件夹一致 \n",
    "            if not os.path.exists(dstItem):\n",
    "                os.makedirs(dstItem)\n",
    "                print('make directory'+dstItem)\n",
    "            #递归调用自身函数 \n",
    "            autoBackup(scrItem, dstItem)\n",
    "        elif os.path.isfile(scrItem):\n",
    "            #只复制新增或修改过的文件 \n",
    "            if ((not os.path.exists(dstItem)) or\n",
    "               (not filecmp.cmp(scrItem, dstItem, shallow=False))):\n",
    "                shutil.copyfile(scrItem, dstItem)\n",
    "                print('file:'+scrItem+'==>'+dstItem)\n",
    "def usage():\n",
    "    print('scrDir and dstDir must be existing absolute path of certain directory')\n",
    "    print('For example:{0} c:\\\\olddir c:\\\\newdir'.format(sys.argv[0]))\n",
    "    sys.exit(0)\n",
    "    \n",
    "# if __name__=='__main__':\n",
    "#     if len(sys.argv)!=3:\n",
    "#         usage()\n",
    "#     scrDir, dstDir= sys.argv[1], sys.argv[2]\n",
    "#     autoBackup(scrDir, dstDir)\n",
    "\n",
    "autoBackup('D:\\PyExp5\\py_cpy_dst', 'D:\\PyExp5\\py_cpy_dst')"
   ]
  },
  {
   "cell_type": "code",
   "execution_count": 31,
   "id": "d737bce1",
   "metadata": {
    "scrolled": true
   },
   "outputs": [
    {
     "name": "stdout",
     "output_type": "stream",
     "text": [
      "True\n",
      "D:\\PyExp5\\‪py_cpy_scr\n"
     ]
    }
   ],
   "source": [
    "print((os.path.abspath('‪D:\\PyExp5\\py_cpy_scr') != '‪D:\\PyExp5\\py_cpy_scr'))\n",
    "print(os.path.abspath('‪D:\\PyExp5\\py_cpy_scr'))"
   ]
  },
  {
   "cell_type": "code",
   "execution_count": 36,
   "id": "ebcb91b3",
   "metadata": {},
   "outputs": [
    {
     "data": {
      "text/plain": [
       "['test2.txt', 'test3.obj']"
      ]
     },
     "execution_count": 36,
     "metadata": {},
     "output_type": "execute_result"
    }
   ],
   "source": [
    "os.listdir('D:\\PyExp5\\py_cpy_scr')"
   ]
  },
  {
   "cell_type": "code",
   "execution_count": null,
   "id": "50b86f83",
   "metadata": {},
   "outputs": [],
   "source": []
  }
 ],
 "metadata": {
  "kernelspec": {
   "display_name": "Python 3",
   "language": "python",
   "name": "python3"
  },
  "language_info": {
   "codemirror_mode": {
    "name": "ipython",
    "version": 3
   },
   "file_extension": ".py",
   "mimetype": "text/x-python",
   "name": "python",
   "nbconvert_exporter": "python",
   "pygments_lexer": "ipython3",
   "version": "3.8.8"
  }
 },
 "nbformat": 4,
 "nbformat_minor": 5
}
