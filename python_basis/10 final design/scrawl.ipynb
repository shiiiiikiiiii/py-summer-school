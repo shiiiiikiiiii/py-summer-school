{
 "cells": [
  {
   "cell_type": "code",
   "execution_count": 1,
   "id": "f24b613c",
   "metadata": {
    "ExecuteTime": {
     "end_time": "2022-08-01T20:10:53.231240Z",
     "start_time": "2022-08-01T20:10:53.141710Z"
    }
   },
   "outputs": [],
   "source": [
    "from selenium import webdriver\n",
    "from selenium.webdriver.common.by import By\n",
    "import time\n",
    "import re"
   ]
  },
  {
   "cell_type": "code",
   "execution_count": 2,
   "id": "3daba882",
   "metadata": {
    "ExecuteTime": {
     "end_time": "2022-08-01T20:11:02.666089Z",
     "start_time": "2022-08-01T20:10:53.855716Z"
    }
   },
   "outputs": [],
   "source": [
    "# 进入浏览器设置\n",
    "options = webdriver.ChromeOptions()\n",
    "# 设置中文\n",
    "# options.add_argument('lang=zh_CN.UTF-8')\n",
    "# 更换user-agent头信息防止被反爬\n",
    "options.add_argument(\n",
    "    'user-agent=\"Mozilla/5.0 (Windows NT 10.0; Win64; x64) AppleWebKit/537.36 (KHTML, like Gecko) Chrome/103.0.0.0 Safari/537.36\"')\n",
    "browser = webdriver.Chrome(options=options)\n",
    "url = 'http://quotes.money.163.com/trade/lsjysj_000625.html#01b07'\n",
    "browser.get(url)\n",
    "time.sleep(2)\n",
    "browser.find_element(\n",
    "    By.XPATH, '//*[@id=\"downloadData\"]').click()   # press button\n",
    "time.sleep(2)\n",
    "# browser.find_element(By.XPATH,'//*[@id=\"dropBox1\"]/div[2]/form/div[3]/a[1]\"]').click()   # press button\n",
    "# browser.find_element_by_class_name('a').click()\n",
    "browser.find_element(\n",
    "    By.XPATH, '/html/body/div[2]/div[5]/div[2]/form/div[3]/a[1]').click()\n",
    "time.sleep(2)"
   ]
  },
  {
   "cell_type": "code",
   "execution_count": null,
   "id": "c69d2583",
   "metadata": {},
   "outputs": [],
   "source": []
  }
 ],
 "metadata": {
  "kernelspec": {
   "display_name": "conda_jupyter",
   "language": "python",
   "name": "jupyter"
  },
  "language_info": {
   "codemirror_mode": {
    "name": "ipython",
    "version": 3
   },
   "file_extension": ".py",
   "mimetype": "text/x-python",
   "name": "python",
   "nbconvert_exporter": "python",
   "pygments_lexer": "ipython3",
   "version": "3.9.12"
  },
  "toc": {
   "base_numbering": 1,
   "nav_menu": {},
   "number_sections": true,
   "sideBar": true,
   "skip_h1_title": false,
   "title_cell": "Table of Contents",
   "title_sidebar": "Contents",
   "toc_cell": false,
   "toc_position": {},
   "toc_section_display": true,
   "toc_window_display": false
  },
  "varInspector": {
   "cols": {
    "lenName": 16,
    "lenType": 16,
    "lenVar": 40
   },
   "kernels_config": {
    "python": {
     "delete_cmd_postfix": "",
     "delete_cmd_prefix": "del ",
     "library": "var_list.py",
     "varRefreshCmd": "print(var_dic_list())"
    },
    "r": {
     "delete_cmd_postfix": ") ",
     "delete_cmd_prefix": "rm(",
     "library": "var_list.r",
     "varRefreshCmd": "cat(var_dic_list()) "
    }
   },
   "types_to_exclude": [
    "module",
    "function",
    "builtin_function_or_method",
    "instance",
    "_Feature"
   ],
   "window_display": false
  }
 },
 "nbformat": 4,
 "nbformat_minor": 5
}