{
 "cells": [
  {
   "cell_type": "code",
   "execution_count": 1,
   "id": "4c3ff291",
   "metadata": {},
   "outputs": [
    {
     "name": "stdout",
     "output_type": "stream",
     "text": [
      "['abcd', 786, 2.23, 'runoob', 70.2]\n",
      "abcd\n",
      "[786, 2.23]\n",
      "[2.23, 'runoob', 70.2]\n",
      "[123, 'runoob', 123, 'runoob']\n",
      "['abcd', 786, 2.23, 'runoob', 70.2, 123, 'runoob']\n",
      "3\n",
      "True\n",
      "1\n",
      "2\n",
      "3\n"
     ]
    }
   ],
   "source": [
    "list = [ 'abcd', 786 , 2.23, 'runoob', 70.2 ]\n",
    "tinylist = [123, 'runoob']\n",
    " \n",
    "print (list)               #abcd\\n786\\n2.23\\nrunoob\\n70.2\n",
    "print (list[0])           #abcd\n",
    "print (list[1:3])        #786\\n2.23\n",
    "print (list[2:])          #2.23\\nrunoob\\n70.2\n",
    "print (tinylist * 2)    #123\\nrunoob\\.\\n123\\nrunoob\n",
    "print (list + tinylist) #abcd\\n786\\n2.23\\nrunoob\\n70.2\\n123\\nrunoob\n",
    "\n",
    "#len(list)   max(list)  min(list)  \n",
    "#list.append()  list.sort()  list.clear()\n",
    "list1=[1,2,3]\n",
    "list2=[4,5,6]\n",
    "print(len(list1))          #3\n",
    "print(2 in list1)          #True \n",
    "for x in list1 :print(x) #1\\n2\\n3"
   ]
  },
  {
   "cell_type": "code",
   "execution_count": 2,
   "id": "d9961f6d",
   "metadata": {},
   "outputs": [
    {
     "name": "stdout",
     "output_type": "stream",
     "text": [
      "('abcd', 786, 2.23, 'runoob', 70.2)\n",
      "abcd\n",
      "(786, 2.23)\n",
      "(2.23, 'runoob', 70.2)\n",
      "(123, 'runoob', 123, 'runoob')\n",
      "('abcd', 786, 2.23, 'runoob', 70.2, 123, 'runoob')\n"
     ]
    }
   ],
   "source": [
    "tuple = ( 'abcd', 786 , 2.23, 'runoob', 70.2  )\n",
    "tinytuple = (123, 'runoob')\n",
    " \n",
    "print (tuple)                   #abcd\\n786\\n2.23\\nrunoob\\n70.2\n",
    "print (tuple[0])               #abcd\n",
    "print (tuple[1:3])            #786\\n2.23\n",
    "print (tuple[2:])              #2.23\\nrunoob\\n70.2\n",
    "print (tinytuple * 2)        #123\\nrunoob\\.\\n123\\nrunoob\n",
    "print (tuple + tinytuple) #abcd\\n786\\n2.23\\nrunoob\\n70.2\\n123\\nrunoob"
   ]
  },
  {
   "cell_type": "code",
   "execution_count": 3,
   "id": "c916cc89",
   "metadata": {},
   "outputs": [
    {
     "name": "stdout",
     "output_type": "stream",
     "text": [
      "{'Jim', 'Tom', 'Jack', 'Rose', 'Mary'}\n",
      "Rose 在集合中\n",
      "{'r', 'a', 'b', 'c', 'd'}\n",
      "{'b', 'd', 'r'}\n",
      "{'r', 'l', 'a', 'z', 'm', 'b', 'c', 'd'}\n",
      "{'a', 'c'}\n",
      "{'l', 'z', 'm', 'r', 'b', 'd'}\n"
     ]
    }
   ],
   "source": [
    "student = {'Tom', 'Jim', 'Mary', 'Tom', 'Jack', 'Rose'}\n",
    "print(student)                #Tom\\nJim\\nMary\\nJack\\nRose\n",
    " \n",
    "# 成员测试\n",
    "if 'Rose' in student :\n",
    "    print('Rose 在集合中')\n",
    "else :\n",
    "    print('Rose 不在集合中')    #Rose 在集合中\n",
    " \n",
    "# set可以进行集合运算\n",
    "a = set('abracadabra')\t#abrcd\n",
    "b = set('alacazam')\t#alczm\n",
    " \n",
    "print(a)\t\t#a\\nb\\nr\\nc\\nd\n",
    "print(a - b)        #b\\nr\\nd\n",
    "print(a | b)        #a\\nb\\nc\\nd\\nl\\nm\\nr\\nz\n",
    "print(a & b)      #a\\nc\n",
    "print(a ^ b)       #b\\nd\\nl\\nm\\nr\\nz"
   ]
  },
  {
   "cell_type": "code",
   "execution_count": 4,
   "id": "eedfe8f1",
   "metadata": {},
   "outputs": [
    {
     "name": "stdout",
     "output_type": "stream",
     "text": [
      "1 - 教程\n",
      "2 - 工具\n",
      "{'name': 'leike', 'code': 1, 'site': 'www.leike.com'}\n",
      "dict_keys(['name', 'code', 'site'])\n",
      "dict_values(['leike', 1, 'www.leike.com'])\n"
     ]
    }
   ],
   "source": [
    "dict = {}\n",
    "dict['one'] = \"1 - 教程\"\n",
    "dict[2]     = \"2 - 工具\"\n",
    "tinydict = {'name': 'leike','code':1, 'site': 'www.leike.com'}\n",
    " \n",
    "print (dict['one'])             #'one': 1 - 教程\n",
    "print (dict[2])                   #2: 2 - 工具\n",
    "print (tinydict)                 #'name': leike\\n'code':1\\m'site': www.leike.com\n",
    "print (tinydict.keys())       #'name'\\n'code'\\n'site'\n",
    "print (tinydict.values())     #leike\\n1\\nwww.leike.com"
   ]
  },
  {
   "cell_type": "code",
   "execution_count": null,
   "id": "cc367194",
   "metadata": {},
   "outputs": [],
   "source": []
  }
 ],
 "metadata": {
  "kernelspec": {
   "display_name": "Python 3",
   "language": "python",
   "name": "python3"
  },
  "language_info": {
   "codemirror_mode": {
    "name": "ipython",
    "version": 3
   },
   "file_extension": ".py",
   "mimetype": "text/x-python",
   "name": "python",
   "nbconvert_exporter": "python",
   "pygments_lexer": "ipython3",
   "version": "3.8.8"
  }
 },
 "nbformat": 4,
 "nbformat_minor": 5
}
