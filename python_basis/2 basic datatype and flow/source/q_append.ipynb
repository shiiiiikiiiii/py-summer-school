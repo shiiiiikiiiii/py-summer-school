{
 "cells": [
  {
   "cell_type": "code",
   "execution_count": 3,
   "id": "24ee5c70",
   "metadata": {},
   "outputs": [],
   "source": [
    "import turtle as t\n",
    "\n",
    "#第一条边\n",
    "t.fd(100)\n",
    "\n",
    "#第二条边\n",
    "t.lt(120)\n",
    "t.fd(100)\n",
    "\n",
    "#第三条边\n",
    "t.lt(120)\n",
    "t.fd(100)\n",
    "\n",
    "t.done()"
   ]
  },
  {
   "cell_type": "code",
   "execution_count": null,
   "id": "5345717a",
   "metadata": {},
   "outputs": [],
   "source": []
  }
 ],
 "metadata": {
  "kernelspec": {
   "display_name": "Python 3",
   "language": "python",
   "name": "python3"
  },
  "language_info": {
   "codemirror_mode": {
    "name": "ipython",
    "version": 3
   },
   "file_extension": ".py",
   "mimetype": "text/x-python",
   "name": "python",
   "nbconvert_exporter": "python",
   "pygments_lexer": "ipython3",
   "version": "3.8.8"
  }
 },
 "nbformat": 4,
 "nbformat_minor": 5
}
