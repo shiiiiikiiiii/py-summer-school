{
 "cells": [
  {
   "cell_type": "code",
   "execution_count": 5,
   "id": "7ec15c8c",
   "metadata": {},
   "outputs": [
    {
     "name": "stdout",
     "output_type": "stream",
     "text": [
      "highest 99 \n",
      "lowest 40 \n",
      "average 72.33333333333333 \n",
      "highestPerson ['Wu Shi']\n"
     ]
    }
   ],
   "source": [
    "     scores = {\"Zhang San\": 45, \"Li Si\": 78, \"Wang Wu\": 40, \"Zhou Liu\": 96,\n",
    "              \"Zhao Qi\": 65, \"Sun Ba\": 90, \"Zheng Jiu\": 78, \"Wu Shi\": 99,\n",
    "              \"Dong Shiyi\": 60}\n",
    "highest = max(scores.values())                   #最高分\n",
    "lowest = min(scores.values())                    #最低分\n",
    "average = sum(scores.values()) / len(scores)        #平均分\n",
    "highestPerson = [name for name, score in scores.items() if score == highest]\n",
    "\n",
    "print('highest', highest, '\\nlowest', lowest, '\\naverage', average, '\\nhighestPerson', highestPerson)"
   ]
  },
  {
   "cell_type": "code",
   "execution_count": 9,
   "id": "4ae06553",
   "metadata": {},
   "outputs": [
    {
     "name": "stdout",
     "output_type": "stream",
     "text": [
      "highest 99 \n",
      "lowest 40 \n",
      "average 72.33333333333333 \n",
      "highestPerson Wu Shi\n"
     ]
    }
   ],
   "source": [
    "#或者\n",
    "scores = {'Li Si': 78, 'Zhao Qi': 65, 'Wang Wu': 40, 'Wu Shi': 99, 'Zheng Jiu': 78, 'Zhang San': 45, 'Sun Ba': 90, 'Zhou Liu': 96, 'Dong Shiyi': 60}\n",
    "highest = max(scores.values())\n",
    "average = sum(scores.values()) / len(scores)\n",
    "\n",
    "print('highest', highest, '\\nlowest', lowest, '\\naverage', average, '\\nhighestPerson',end=' ')\n",
    "\n",
    "for name,score in scores.items():\n",
    "    if score == highest:\n",
    "        print(name)\n"
   ]
  },
  {
   "cell_type": "code",
   "execution_count": null,
   "id": "3968b2f0",
   "metadata": {},
   "outputs": [],
   "source": []
  }
 ],
 "metadata": {
  "kernelspec": {
   "display_name": "Python 3",
   "language": "python",
   "name": "python3"
  },
  "language_info": {
   "codemirror_mode": {
    "name": "ipython",
    "version": 3
   },
   "file_extension": ".py",
   "mimetype": "text/x-python",
   "name": "python",
   "nbconvert_exporter": "python",
   "pygments_lexer": "ipython3",
   "version": "3.8.8"
  }
 },
 "nbformat": 4,
 "nbformat_minor": 5
}
