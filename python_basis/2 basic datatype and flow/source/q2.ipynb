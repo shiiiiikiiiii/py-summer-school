{
 "cells": [
  {
   "cell_type": "code",
   "execution_count": 2,
   "id": "d3cff7d7",
   "metadata": {},
   "outputs": [
    {
     "name": "stdout",
     "output_type": "stream",
     "text": [
      "input first list:1 2 3 4 5 6\n",
      "input second list:7 8 9 10\n",
      "input third list:11 12 13\n",
      "max is  780 ,position is 5,3,2.\n"
     ]
    }
   ],
   "source": [
    "x = input(\"input first list:\")\n",
    "x = list(map(int,x.split()))\n",
    "i = max(x)\n",
    "iPos = x.index(i)\n",
    "y = input(\"input second list:\")\n",
    "y = list(map(int,y.split()))\n",
    "j = max(y)\n",
    "jPos = y.index(j)\n",
    "z = input(\"input third list:\")\n",
    "z = list(map(int,z.split()))\n",
    "k = max(z)\n",
    "kPos = z.index(k)\n",
    "print(\"max is \",i*j*k,\",position is %d,%d,%d.\"%(iPos,jPos,kPos))"
   ]
  },
  {
   "cell_type": "code",
   "execution_count": null,
   "id": "381cabb1",
   "metadata": {},
   "outputs": [],
   "source": []
  }
 ],
 "metadata": {
  "kernelspec": {
   "display_name": "Python 3",
   "language": "python",
   "name": "python3"
  },
  "language_info": {
   "codemirror_mode": {
    "name": "ipython",
    "version": 3
   },
   "file_extension": ".py",
   "mimetype": "text/x-python",
   "name": "python",
   "nbconvert_exporter": "python",
   "pygments_lexer": "ipython3",
   "version": "3.8.8"
  }
 },
 "nbformat": 4,
 "nbformat_minor": 5
}
