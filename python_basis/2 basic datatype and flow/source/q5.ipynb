{
 "cells": [
  {
   "cell_type": "code",
   "execution_count": 1,
   "id": "cfd63e3d",
   "metadata": {},
   "outputs": [
    {
     "name": "stdout",
     "output_type": "stream",
     "text": [
      "请输入三角形3条边的长度（以，分隔）:1,1,1.41421356\n",
      "锐角三角形\n",
      "等腰三角形\n"
     ]
    }
   ],
   "source": [
    "\"\"\"\n",
    "本程序完成对输入的3条边进行判断，如果构成三角形，则判断是锐角、钝角和直角三角形；还可以判断等腰和等边三角形\n",
    "\"\"\"\n",
    "x,y,z = eval(input(\"请输入三角形3条边的长度（以，分隔）:\")) #输入三条边长度\n",
    "x,y,z = sorted([x,y,z],reverse=True)                           #降序排列三条边长度\n",
    "while y + z <= x:\n",
    "    print(\"不能构成三角形，请重新输入3条边的长度：\")\n",
    "    x,y,z = eval(input(\"请输入三角形3条边的长度（以，分隔）:\"))\n",
    "    x,y,z = sorted([x,y,z],reverse=True)\n",
    "cosX = (y ** 2 + z ** 2 - x ** 2) / 2.0 / y / z\n",
    "if cosX > 0.0:\n",
    "    print(\"锐角三角形\")\n",
    "elif cosX == 0.0:\n",
    "    print(\"直角三角形\")\n",
    "else:\n",
    "    print(\"钝角三角形\")\n",
    "if x == y == z :\n",
    "    print(\"等边三角形\")\n",
    "elif x == y or y == z or x == z:\n",
    "    print(\"等腰三角形\")    \n"
   ]
  },
  {
   "cell_type": "code",
   "execution_count": null,
   "id": "3dc5c71c",
   "metadata": {},
   "outputs": [],
   "source": []
  }
 ],
 "metadata": {
  "kernelspec": {
   "display_name": "Python 3",
   "language": "python",
   "name": "python3"
  },
  "language_info": {
   "codemirror_mode": {
    "name": "ipython",
    "version": 3
   },
   "file_extension": ".py",
   "mimetype": "text/x-python",
   "name": "python",
   "nbconvert_exporter": "python",
   "pygments_lexer": "ipython3",
   "version": "3.8.8"
  }
 },
 "nbformat": 4,
 "nbformat_minor": 5
}
