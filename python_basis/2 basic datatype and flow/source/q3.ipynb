{
 "cells": [
  {
   "cell_type": "code",
   "execution_count": 6,
   "id": "9536d422",
   "metadata": {},
   "outputs": [
    {
     "name": "stdout",
     "output_type": "stream",
     "text": [
      "{'k': 10, '}': 11, 'O': 11, 'L': 18, ':': 11, 't': 10, 'n': 14, '@': 15, '~': 19, 'd': 10, '9': 17, 'P': 21, '(': 11, 'H': 9, '{': 12, '|': 11, 'A': 9, 'a': 12, 'Q': 12, 'Z': 12, 'S': 7, 'e': 12, '6': 11, '\\\\': 11, 'w': 15, 'T': 14, '`': 10, '4': 6, 'b': 11, 'r': 11, 'x': 10, 'p': 7, 'G': 11, 'N': 11, 'M': 15, 'j': 9, 'o': 12, '2': 8, '<': 9, 'D': 15, \"'\": 11, '*': 6, '+': 15, '=': 10, ';': 10, 'X': 15, 'z': 12, '_': 19, 'F': 14, '#': 8, '8': 12, 'q': 8, '0': 8, 'U': 14, 'B': 6, '>': 14, 'm': 11, ']': 11, 'K': 11, '&': 15, 'R': 9, 'C': 13, '7': 7, 'u': 12, 'W': 10, ')': 8, 'h': 6, 'V': 5, '!': 10, '3': 7, '\"': 6, 'y': 7, 'J': 11, '5': 11, 'i': 13, '^': 12, '.': 7, 'E': 9, '-': 10, 'v': 11, '[': 7, '/': 10, '1': 8, 'g': 5, '$': 9, ',': 8, 'Y': 3, '%': 9, 'f': 7, 'I': 9, 'c': 11, 's': 10, '?': 10, 'l': 10}\n",
      "k}OL:tn@~d9PP(H{|AaQ9ZSe6(\\wT`4br(xpGNdLMPnjo2<D2w'*t+}+=;XazGL_M+PPF#w8_qbb|=qk0G@UG`rB\\NZ>mbp=D6ZLF_>]6KTn&LRC4Seboto\\7'uWG:mHNumrA@&|D)'Xhb&8TQOpLSUbwVj@uBO*!3\"y!kmJ{P&~aO5N~iB<>d7&#^wyw59`*Qz.n>+WaEH-PwFO3vdLPz[{L0<bt+z^y48U|8G.b&P6uZEEtFDD/!1_X'ygLW:DRoZ@_$L^VUS,X9$[Y}%@W~nyfv=hd.n@`IkTeFMCM_i<Wy0|!kDF;5D,iL_P4PM&J9Zr{W9(w}.X}6QUtGmN_c^]*j^j^fMaPCtCo1+PD[H2@n73$Qu[Oi\\oLe&+jU_GoKVTIQzS}>Ca^3#]6s[Kh:>],JUvKs_)M_ZK>X1Ns*s{}\"vXd_'<`%H+VF#\"wj&xF9q@De)?gz8`cM$M5qDtCgO}ap\\2Kc'9{B-Ks8=0OR9roorv'gTNx/oRdN~9GeOQbT]^~hQ^\\9;%P\"5Q/$1sIU\"&sFDuYj<TwR_F{1pO%>/,Jc](?C:mKCx~qW}07U,|2Wi%~r#?zThOi>T7lq@X(n!8TNbAeQ+2R5>>fc:&f5?zMTZIk,i'eH=Ps_C7MruF~UY;/|W'c%aMmk8-;(U43$Uw109lC@?%x-Xa'EL]e_nEB22tvyxz4]^|<z}L]ljuI_U{Xc{9X95FuvLC]n#{iU|oc~JDV1rt{i+~:_Ie1+~\\zuI~of)@8(dPA0:iS.P+i}a\\!#d<*^%f{K-W&~.-QAM)6vZ&d\\!5]8xJ?lu;jhx!'s6>$/+P!vZX?#5?Jm@CXKwQR@wkH`zL@:);X`_GEHek,p+C[lZ;(6TPlJ,/`+inE;>FH<D?JI=i:/w/-e89v>$JMP6|SqLG3~I=-mR()Em!~K.l5R-[Txal9Fl7\\Z/=|cnA6AEug0r~X~)m(f-J\\N^pLN~%?=&8n;qsPAM&rw9xc:Dvc\"`_3BaAn$kl\n"
     ]
    }
   ],
   "source": [
    "import string\n",
    "import random\n",
    "x = string.ascii_letters + string.digits + string.punctuation\n",
    "y = [random.choice(x) for i in range(1000)]\n",
    "z = ''.join(y)\n",
    "d = dict()                  #使用字典保存每个字符出现次数\n",
    "for ch in z:\n",
    "    d[ch] = d.get(ch, 0) + 1\n",
    "    \n",
    "print(d)\n",
    "print(''.join(y))"
   ]
  },
  {
   "cell_type": "code",
   "execution_count": null,
   "id": "ce938460",
   "metadata": {},
   "outputs": [],
   "source": []
  }
 ],
 "metadata": {
  "kernelspec": {
   "display_name": "Python 3",
   "language": "python",
   "name": "python3"
  },
  "language_info": {
   "codemirror_mode": {
    "name": "ipython",
    "version": 3
   },
   "file_extension": ".py",
   "mimetype": "text/x-python",
   "name": "python",
   "nbconvert_exporter": "python",
   "pygments_lexer": "ipython3",
   "version": "3.8.8"
  }
 },
 "nbformat": 4,
 "nbformat_minor": 5
}
